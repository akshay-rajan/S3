{
 "cells": [
  {
   "cell_type": "markdown",
   "metadata": {},
   "source": [
    "# Handwritten Digit Recognition using Neural Network\n",
    "\n",
    "Detect scanned images of handwritten digits using the *MNIST Database*. \n",
    "The database contains `70000` `28x28` images of labelled handwritten digits from NIST."
   ]
  },
  {
   "cell_type": "code",
   "execution_count": 13,
   "metadata": {},
   "outputs": [
    {
     "name": "stdout",
     "output_type": "stream",
     "text": [
      "Images:  (784, 70000)\n",
      "Labels:  (1, 70000)\n"
     ]
    }
   ],
   "source": [
    "from scipy.io import loadmat\n",
    "\n",
    "data = loadmat(\"files/mnist-original.mat\")\n",
    "\n",
    "images = data['data']\n",
    "labels = data['label']\n",
    "\n",
    "print(\"Images: \", images.shape)\n",
    "print(\"Labels: \", labels.shape)"
   ]
  },
  {
   "cell_type": "markdown",
   "metadata": {},
   "source": [
    "Displaying the first image..."
   ]
  },
  {
   "cell_type": "code",
   "execution_count": 22,
   "metadata": {},
   "outputs": [
    {
     "data": {
      "image/png": "[encoded data removed]",
      "text/plain": [
       "<Figure size 640x480 with 1 Axes>"
      ]
     },
     "metadata": {},
     "output_type": "display_data"
    }
   ],
   "source": [
    "import matplotlib.pyplot as plt\n",
    "\n",
    "first_image = images[:, 0].reshape(28, 28) # 28x28 image\n",
    "first_label = labels[0, 0]\n",
    "\n",
    "plt.imshow(first_image, cmap='gray')\n",
    "plt.title(first_label)\n",
    "plt.show()"
   ]
  },
  {
   "cell_type": "code",
   "execution_count": 27,
   "metadata": {},
   "outputs": [],
   "source": [
    "# Extract features from the data \n",
    "X = data['data'].transpose() # Convert (features, samples) to (samples, features)\n",
    "X = X / 255 # Normalize the data by dividing with maximum pixel value\n",
    "\n",
    "# Extract labels from the data and flatten to 1D\n",
    "y = data['label'].flatten()"
   ]
  },
  {
   "cell_type": "code",
   "execution_count": 29,
   "metadata": {},
   "outputs": [],
   "source": [
    "# Train-test split (60000 for training, 10000 for testing)\n",
    "X_train, X_test, y_train, y_test = X[:60000], X[60000:], y[:60000], y[60000:]"
   ]
  },
  {
   "cell_type": "markdown",
   "metadata": {},
   "source": [
    "We use a **Multilayer Perceptron Model**, a type of feedforward neural network, where each neuron in one layer is connected to every neuron in the next layer (*fully connected*).\n",
    "\n",
    "Consider a 3 layered neural network: input layer containing `28 x 28 = 784` neurons, `100` neurons in the hidden layer and `10` labels for the output (`0-9`)."
   ]
  },
  {
   "cell_type": "code",
   "execution_count": 31,
   "metadata": {},
   "outputs": [],
   "source": [
    "input_layer_size = 784\n",
    "hidden_layer_size = 100\n",
    "label_size = 10"
   ]
  }
 ],
 "metadata": {
  "kernelspec": {
   "display_name": "Python 3",
   "language": "python",
   "name": "python3"
  },
  "language_info": {
   "codemirror_mode": {
    "name": "ipython",
    "version": 3
   },
   "file_extension": ".py",
   "mimetype": "text/x-python",
   "name": "python",
   "nbconvert_exporter": "python",
   "pygments_lexer": "ipython3",
   "version": "3.11.3"
  }
 },
 "nbformat": 4,
 "nbformat_minor": 2
}
