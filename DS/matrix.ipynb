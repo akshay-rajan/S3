{
 "cells": [
  {
   "cell_type": "code",
   "execution_count": 1,
   "metadata": {},
   "outputs": [],
   "source": [
    "import numpy as np"
   ]
  },
  {
   "cell_type": "code",
   "execution_count": 4,
   "metadata": {},
   "outputs": [],
   "source": [
    "a = np.array(([1, 2], [3, 4]))\n",
    "b = np.array(([5, 6], [7, 8]))"
   ]
  },
  {
   "cell_type": "code",
   "execution_count": 12,
   "metadata": {},
   "outputs": [
    {
     "name": "stdout",
     "output_type": "stream",
     "text": [
      "Multiplication \n",
      " [[19 22]\n",
      " [43 50]]\n",
      "Transpose \n",
      " [[1 3]\n",
      " [2 4]]\n",
      "Flattened (1D) \n",
      " [1 2 3 4]\n",
      "Inverse \n",
      " [[-2.   1. ]\n",
      " [ 1.5 -0.5]]\n",
      "Determinant \n",
      " -2.0000000000000004\n"
     ]
    }
   ],
   "source": [
    "print(\"Multiplication \\n\", a.dot(b))\n",
    "print(\"Transpose \\n\", a.transpose())\n",
    "print(\"Flattened (1D) \\n\", a.flatten())\n",
    "print(\"Inverse \\n\", np.linalg.inv(a))\n",
    "print(\"Determinant \\n\", np.linalg.det(a))\n"
   ]
  }
 ],
 "metadata": {
  "kernelspec": {
   "display_name": "Python 3",
   "language": "python",
   "name": "python3"
  },
  "language_info": {
   "codemirror_mode": {
    "name": "ipython",
    "version": 3
   },
   "file_extension": ".py",
   "mimetype": "text/x-python",
   "name": "python",
   "nbconvert_exporter": "python",
   "pygments_lexer": "ipython3",
   "version": "3.12.2"
  }
 },
 "nbformat": 4,
 "nbformat_minor": 2
}
