{
 "cells": [
  {
   "cell_type": "markdown",
   "metadata": {},
   "source": [
    "# NumPy\n",
    "\n",
    "NumPy (**Numerical Python**) is a powerful library for numerical computing in Python. It provides support for arrays, matrices, and many mathematical functions to operate on these data structures efficiently.\n",
    "\n",
    "### Features\n",
    "\n",
    "1. **N-Dimensional Array Object (ndarray)**: The core of NumPy is the `ndarray`, a fast and space-efficient multidimensional array providing vectorized operations.\n",
    "2. **Mathematical Functions** to perform operations on arrays.\n",
    "3. Functions for **Linear Algebra** operations.\n",
    "4. **Random Number Generation**\n",
    "5. **Integration with Other Libraries**, such as SciPy, Pandas, and Matplotlib.\n",
    "\n",
    "\n",
    "> NumPy operations are implemented in C, making them much faster than standard Python loops."
   ]
  },
  {
   "cell_type": "code",
   "execution_count": 8,
   "metadata": {},
   "outputs": [
    {
     "name": "stdout",
     "output_type": "stream",
     "text": [
      "1D Array: [1 2 3 4 5]\n",
      "2D Array:\n",
      " [[1 2 3]\n",
      " [4 5 6]]\n",
      "Sum of array: 15\n",
      "Mean of array: 3.0\n",
      "Element-wise addition: [11 12 13 14 15]\n",
      "Matrix multiplication:\n",
      " [[14 32]\n",
      " [32 77]]\n",
      "Broadcasting:\n",
      " [[2 4 6]\n",
      " [5 7 9]]\n"
     ]
    }
   ],
   "source": [
    "import numpy as np\n",
    "\n",
    "# Create a 1D array\n",
    "a = np.array([1, 2, 3, 4, 5])\n",
    "print(\"1D Array:\", a)\n",
    "\n",
    "# Create a 2D array\n",
    "b = np.array([[1, 2, 3], [4, 5, 6]])\n",
    "print(\"2D Array:\\n\", b)\n",
    "\n",
    "# Perform basic operations\n",
    "sum_array = np.sum(a)\n",
    "print(\"Sum of array:\", sum_array)\n",
    "mean_array = np.mean(a)\n",
    "print(\"Mean of array:\", mean_array)\n",
    "\n",
    "# Perform element-wise addition\n",
    "c = a + 10\n",
    "print(\"Element-wise addition:\", c)\n",
    "\n",
    "# Matrix multiplication\n",
    "d = np.dot(b, b.T)\n",
    "print(\"Matrix multiplication:\\n\", d)\n",
    "\n",
    "# Broadcasting: Perform operations on two arrays with different shapes\n",
    "e = b + a[:3]\n",
    "print(\"Broadcasting:\\n\", e)"
   ]
  }
 ],
 "metadata": {
  "kernelspec": {
   "display_name": "Python 3",
   "language": "python",
   "name": "python3"
  },
  "language_info": {
   "codemirror_mode": {
    "name": "ipython",
    "version": 3
   },
   "file_extension": ".py",
   "mimetype": "text/x-python",
   "name": "python",
   "nbconvert_exporter": "python",
   "pygments_lexer": "ipython3",
   "version": "3.11.3"
  }
 },
 "nbformat": 4,
 "nbformat_minor": 2
}
