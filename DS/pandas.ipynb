{
 "cells": [
  {
   "cell_type": "code",
   "execution_count": 5,
   "metadata": {},
   "outputs": [],
   "source": [
    "import pandas as pd\n",
    "import numpy as np"
   ]
  },
  {
   "cell_type": "code",
   "execution_count": 24,
   "metadata": {},
   "outputs": [],
   "source": [
    "labels = ['A', 'B', 'C', 'D']\n",
    "list1 = [1, 2, 3, 4]\n",
    "list2 = np.array([40, 50, 60])\n",
    "dictionary = {\n",
    "    'A': 10,\n",
    "    'B': 20,\n",
    "    'C': 30,\n",
    "}"
   ]
  },
  {
   "cell_type": "code",
   "execution_count": 18,
   "metadata": {},
   "outputs": [
    {
     "data": {
      "text/plain": [
       "0    1\n",
       "1    2\n",
       "2    3\n",
       "3    4\n",
       "dtype: int64"
      ]
     },
     "execution_count": 18,
     "metadata": {},
     "output_type": "execute_result"
    }
   ],
   "source": [
    "pd.Series(data=list1)"
   ]
  },
  {
   "cell_type": "code",
   "execution_count": 19,
   "metadata": {},
   "outputs": [
    {
     "data": {
      "text/plain": [
       "A    1\n",
       "B    2\n",
       "C    3\n",
       "D    4\n",
       "dtype: int64"
      ]
     },
     "execution_count": 19,
     "metadata": {},
     "output_type": "execute_result"
    }
   ],
   "source": [
    "pd.Series(data=list1, index=labels)"
   ]
  },
  {
   "cell_type": "code",
   "execution_count": 21,
   "metadata": {},
   "outputs": [
    {
     "data": {
      "text/plain": [
       "0    A\n",
       "1    B\n",
       "2    C\n",
       "3    D\n",
       "dtype: object"
      ]
     },
     "execution_count": 21,
     "metadata": {},
     "output_type": "execute_result"
    }
   ],
   "source": [
    "pd.Series(data=labels)"
   ]
  },
  {
   "cell_type": "code",
   "execution_count": 23,
   "metadata": {},
   "outputs": [
    {
     "data": {
      "text/plain": [
       "0      <built-in function sum>\n",
       "1    <built-in function print>\n",
       "2      <built-in function len>\n",
       "dtype: object"
      ]
     },
     "execution_count": 23,
     "metadata": {},
     "output_type": "execute_result"
    }
   ],
   "source": [
    "pd.Series([sum, print, len])"
   ]
  },
  {
   "cell_type": "code",
   "execution_count": 26,
   "metadata": {},
   "outputs": [
    {
     "data": {
      "text/plain": [
       "0    40\n",
       "1    50\n",
       "2    60\n",
       "dtype: int32"
      ]
     },
     "execution_count": 26,
     "metadata": {},
     "output_type": "execute_result"
    }
   ],
   "source": [
    "pd.Series(list2)"
   ]
  },
  {
   "cell_type": "code",
   "execution_count": 27,
   "metadata": {},
   "outputs": [
    {
     "data": {
      "text/plain": [
       "A    10\n",
       "B    20\n",
       "C    30\n",
       "dtype: int64"
      ]
     },
     "execution_count": 27,
     "metadata": {},
     "output_type": "execute_result"
    }
   ],
   "source": [
    "pd.Series(dictionary)"
   ]
  },
  {
   "cell_type": "code",
   "execution_count": 28,
   "metadata": {},
   "outputs": [
    {
     "data": {
      "text/plain": [
       "Cars     [BMW, Bugatti, Lamborghini]\n",
       "Color             [Red, Blue, Green]\n",
       "dtype: object"
      ]
     },
     "execution_count": 28,
     "metadata": {},
     "output_type": "execute_result"
    }
   ],
   "source": [
    "my_dataset = {\n",
    "    \"Cars\": [\"BMW\", \"Bugatti\", \"Lamborghini\"],\n",
    "    \"Color\": [\"Red\", \"Blue\", \"Green\"],\n",
    "}\n",
    "\n",
    "pd.Series(my_dataset)"
   ]
  },
  {
   "cell_type": "code",
   "execution_count": 29,
   "metadata": {},
   "outputs": [
    {
     "data": {
      "text/html": [
       "<div>\n",
       "<style scoped>\n",
       "    .dataframe tbody tr th:only-of-type {\n",
       "        vertical-align: middle;\n",
       "    }\n",
       "\n",
       "    .dataframe tbody tr th {\n",
       "        vertical-align: top;\n",
       "    }\n",
       "\n",
       "    .dataframe thead th {\n",
       "        text-align: right;\n",
       "    }\n",
       "</style>\n",
       "<table border=\"1\" class=\"dataframe\">\n",
       "  <thead>\n",
       "    <tr style=\"text-align: right;\">\n",
       "      <th></th>\n",
       "      <th>Cars</th>\n",
       "      <th>Color</th>\n",
       "    </tr>\n",
       "  </thead>\n",
       "  <tbody>\n",
       "    <tr>\n",
       "      <th>0</th>\n",
       "      <td>BMW</td>\n",
       "      <td>Red</td>\n",
       "    </tr>\n",
       "    <tr>\n",
       "      <th>1</th>\n",
       "      <td>Bugatti</td>\n",
       "      <td>Blue</td>\n",
       "    </tr>\n",
       "    <tr>\n",
       "      <th>2</th>\n",
       "      <td>Lamborghini</td>\n",
       "      <td>Green</td>\n",
       "    </tr>\n",
       "  </tbody>\n",
       "</table>\n",
       "</div>"
      ],
      "text/plain": [
       "          Cars  Color\n",
       "0          BMW    Red\n",
       "1      Bugatti   Blue\n",
       "2  Lamborghini  Green"
      ]
     },
     "execution_count": 29,
     "metadata": {},
     "output_type": "execute_result"
    }
   ],
   "source": [
    "pd.DataFrame(my_dataset)"
   ]
  },
  {
   "cell_type": "code",
   "execution_count": 35,
   "metadata": {},
   "outputs": [
    {
     "name": "stdout",
     "output_type": "stream",
     "text": [
      "Red        Apple\n",
      "Orange    Orange\n",
      "Yellow    Banana\n",
      "Green     Grapes\n",
      "dtype: object \n",
      "\n",
      "   Fruits  Colors\n",
      "0   Apple     Red\n",
      "1  Orange  Orange\n",
      "2  Banana  Yellow\n",
      "3  Grapes   Green\n"
     ]
    }
   ],
   "source": [
    "fruits = [\"Apple\", \"Orange\", \"Banana\", \"Grapes\"]\n",
    "colors = [\"Red\", \"Orange\", \"Yellow\", \"Green\"]\n",
    "\n",
    "print(pd.Series(fruits, colors), \"\\n\")\n",
    "print(pd.DataFrame({\"Fruits\": fruits, \"Colors\": colors}))"
   ]
  },
  {
   "cell_type": "code",
   "execution_count": 37,
   "metadata": {},
   "outputs": [
    {
     "data": {
      "text/plain": [
       "a    1\n",
       "b    2\n",
       "c    3\n",
       "d    4\n",
       "dtype: int64"
      ]
     },
     "execution_count": 37,
     "metadata": {},
     "output_type": "execute_result"
    }
   ],
   "source": [
    "pd.Series([1, 2, 3, 4], ['a', 'b', 'c', 'd'])"
   ]
  },
  {
   "cell_type": "code",
   "execution_count": 39,
   "metadata": {},
   "outputs": [],
   "source": [
    "import random"
   ]
  },
  {
   "cell_type": "code",
   "execution_count": 135,
   "metadata": {},
   "outputs": [
    {
     "name": "stdout",
     "output_type": "stream",
     "text": [
      "First: 79\n",
      "Second:  79\n"
     ]
    }
   ],
   "source": [
    "# Seed is used to save the state of the random generator\n",
    "random.seed(40)\n",
    "print(\"First:\", random.randint(50, 100)) # Prints 79\n",
    "\n",
    "random.seed(40)\n",
    "print(\"Second: \", random.randint(50, 100)) # Also prints 79"
   ]
  },
  {
   "cell_type": "code",
   "execution_count": 168,
   "metadata": {},
   "outputs": [
    {
     "name": "stdout",
     "output_type": "stream",
     "text": [
      "0.4288890546751146\n",
      "0.5714025946899135\n"
     ]
    }
   ],
   "source": [
    "# random.seed(10)\n",
    "print(random.random())\n",
    "\n",
    "random.seed(10)\n",
    "print(random.random())"
   ]
  },
  {
   "cell_type": "code",
   "execution_count": 194,
   "metadata": {},
   "outputs": [
    {
     "data": {
      "text/html": [
       "<div>\n",
       "<style scoped>\n",
       "    .dataframe tbody tr th:only-of-type {\n",
       "        vertical-align: middle;\n",
       "    }\n",
       "\n",
       "    .dataframe tbody tr th {\n",
       "        vertical-align: top;\n",
       "    }\n",
       "\n",
       "    .dataframe thead th {\n",
       "        text-align: right;\n",
       "    }\n",
       "</style>\n",
       "<table border=\"1\" class=\"dataframe\">\n",
       "  <thead>\n",
       "    <tr style=\"text-align: right;\">\n",
       "      <th></th>\n",
       "      <th>P</th>\n",
       "      <th>Q</th>\n",
       "      <th>R</th>\n",
       "      <th>S</th>\n",
       "    </tr>\n",
       "  </thead>\n",
       "  <tbody>\n",
       "    <tr>\n",
       "      <th>A</th>\n",
       "      <td>1.450734</td>\n",
       "      <td>0.606870</td>\n",
       "      <td>-0.375621</td>\n",
       "      <td>-1.421925</td>\n",
       "    </tr>\n",
       "    <tr>\n",
       "      <th>B</th>\n",
       "      <td>-1.781151</td>\n",
       "      <td>-0.747906</td>\n",
       "      <td>-0.368410</td>\n",
       "      <td>-2.249118</td>\n",
       "    </tr>\n",
       "    <tr>\n",
       "      <th>C</th>\n",
       "      <td>-1.693675</td>\n",
       "      <td>0.303648</td>\n",
       "      <td>-0.408992</td>\n",
       "      <td>-0.754831</td>\n",
       "    </tr>\n",
       "    <tr>\n",
       "      <th>D</th>\n",
       "      <td>-0.407519</td>\n",
       "      <td>-0.812625</td>\n",
       "      <td>0.927516</td>\n",
       "      <td>1.639954</td>\n",
       "    </tr>\n",
       "    <tr>\n",
       "      <th>E</th>\n",
       "      <td>2.073616</td>\n",
       "      <td>0.709798</td>\n",
       "      <td>0.747153</td>\n",
       "      <td>1.463095</td>\n",
       "    </tr>\n",
       "  </tbody>\n",
       "</table>\n",
       "</div>"
      ],
      "text/plain": [
       "          P         Q         R         S\n",
       "A  1.450734  0.606870 -0.375621 -1.421925\n",
       "B -1.781151 -0.747906 -0.368410 -2.249118\n",
       "C -1.693675  0.303648 -0.408992 -0.754831\n",
       "D -0.407519 -0.812625  0.927516  1.639954\n",
       "E  2.073616  0.709798  0.747153  1.463095"
      ]
     },
     "execution_count": 194,
     "metadata": {},
     "output_type": "execute_result"
    }
   ],
   "source": [
    "# randn for normal distribution (positive and negative values)\n",
    "# np.random.seed(5)\n",
    "pd.DataFrame(np.random.randn(5, 4), index=\"A B C D E\".split(), columns=\"P Q R S\".split())"
   ]
  },
  {
   "cell_type": "code",
   "execution_count": 213,
   "metadata": {},
   "outputs": [
    {
     "name": "stdout",
     "output_type": "stream",
     "text": [
      "          P         Q         R         S\n",
      "A  0.616918  0.762819  0.001679  0.082120\n",
      "B  0.321179  0.216350  0.174757  0.551840\n",
      "C  0.639629  0.485027  0.699559  0.318169\n",
      "D  0.365971  0.132996  0.216944  0.486815\n",
      "E  0.826405  0.473552  0.883177  0.936967\n",
      "A    0.616918\n",
      "B    0.321179\n",
      "C    0.639629\n",
      "D    0.365971\n",
      "E    0.826405\n",
      "Name: P, dtype: float64\n",
      "          R         S\n",
      "A  0.001679  0.082120\n",
      "B  0.174757  0.551840\n",
      "C  0.699559  0.318169\n",
      "D  0.216944  0.486815\n",
      "E  0.883177  0.936967\n"
     ]
    }
   ],
   "source": [
    "# rand for positive values only\n",
    "df = pd.DataFrame(np.random.rand(5, 4), index=\"A B C D E\".split(), columns=\"P Q R S\".split())\n",
    "print(df)\n",
    "\n",
    "print(df[\"P\"]) # Lists the first column\n",
    "\n",
    "print(df[[\"R\", \"S\"]]) # R and S columns"
   ]
  },
  {
   "cell_type": "code",
   "execution_count": 221,
   "metadata": {},
   "outputs": [
    {
     "name": "stdout",
     "output_type": "stream",
     "text": [
      "<class 'pandas.core.series.Series'>\n",
      "<class 'pandas.core.frame.DataFrame'>\n"
     ]
    }
   ],
   "source": [
    "print(type(df[\"P\"]))\n",
    "print(type(df[[\"P\", \"Q\"]]))"
   ]
  },
  {
   "cell_type": "code",
   "execution_count": 227,
   "metadata": {},
   "outputs": [
    {
     "data": {
      "text/html": [
       "<div>\n",
       "<style scoped>\n",
       "    .dataframe tbody tr th:only-of-type {\n",
       "        vertical-align: middle;\n",
       "    }\n",
       "\n",
       "    .dataframe tbody tr th {\n",
       "        vertical-align: top;\n",
       "    }\n",
       "\n",
       "    .dataframe thead th {\n",
       "        text-align: right;\n",
       "    }\n",
       "</style>\n",
       "<table border=\"1\" class=\"dataframe\">\n",
       "  <thead>\n",
       "    <tr style=\"text-align: right;\">\n",
       "      <th></th>\n",
       "      <th>P</th>\n",
       "      <th>Q</th>\n",
       "      <th>R</th>\n",
       "      <th>S</th>\n",
       "      <th>T</th>\n",
       "    </tr>\n",
       "  </thead>\n",
       "  <tbody>\n",
       "    <tr>\n",
       "      <th>A</th>\n",
       "      <td>0.616918</td>\n",
       "      <td>0.762819</td>\n",
       "      <td>0.001679</td>\n",
       "      <td>0.082120</td>\n",
       "      <td>1</td>\n",
       "    </tr>\n",
       "    <tr>\n",
       "      <th>B</th>\n",
       "      <td>0.321179</td>\n",
       "      <td>0.216350</td>\n",
       "      <td>0.174757</td>\n",
       "      <td>0.551840</td>\n",
       "      <td>2</td>\n",
       "    </tr>\n",
       "    <tr>\n",
       "      <th>C</th>\n",
       "      <td>0.639629</td>\n",
       "      <td>0.485027</td>\n",
       "      <td>0.699559</td>\n",
       "      <td>0.318169</td>\n",
       "      <td>3</td>\n",
       "    </tr>\n",
       "    <tr>\n",
       "      <th>D</th>\n",
       "      <td>0.365971</td>\n",
       "      <td>0.132996</td>\n",
       "      <td>0.216944</td>\n",
       "      <td>0.486815</td>\n",
       "      <td>4</td>\n",
       "    </tr>\n",
       "    <tr>\n",
       "      <th>E</th>\n",
       "      <td>0.826405</td>\n",
       "      <td>0.473552</td>\n",
       "      <td>0.883177</td>\n",
       "      <td>0.936967</td>\n",
       "      <td>5</td>\n",
       "    </tr>\n",
       "  </tbody>\n",
       "</table>\n",
       "</div>"
      ],
      "text/plain": [
       "          P         Q         R         S  T\n",
       "A  0.616918  0.762819  0.001679  0.082120  1\n",
       "B  0.321179  0.216350  0.174757  0.551840  2\n",
       "C  0.639629  0.485027  0.699559  0.318169  3\n",
       "D  0.365971  0.132996  0.216944  0.486815  4\n",
       "E  0.826405  0.473552  0.883177  0.936967  5"
      ]
     },
     "execution_count": 227,
     "metadata": {},
     "output_type": "execute_result"
    }
   ],
   "source": [
    "# Add new column\n",
    "df[\"T\"] = [1, 2, 3, 4, 5]\n",
    "df"
   ]
  },
  {
   "cell_type": "code",
   "execution_count": 241,
   "metadata": {},
   "outputs": [
    {
     "name": "stdout",
     "output_type": "stream",
     "text": [
      "          P         Q         R         S\n",
      "A  0.616918  0.762819  0.001679  0.082120\n",
      "B  0.321179  0.216350  0.174757  0.551840\n",
      "C  0.639629  0.485027  0.699559  0.318169\n",
      "D  0.365971  0.132996  0.216944  0.486815\n",
      "E  0.826405  0.473552  0.883177  0.936967\n",
      "          P         Q         R         S  T\n",
      "A  0.616918  0.762819  0.001679  0.082120  1\n",
      "B  0.321179  0.216350  0.174757  0.551840  2\n",
      "C  0.639629  0.485027  0.699559  0.318169  3\n",
      "E  0.826405  0.473552  0.883177  0.936967  5\n"
     ]
    },
    {
     "data": {
      "text/html": [
       "<div>\n",
       "<style scoped>\n",
       "    .dataframe tbody tr th:only-of-type {\n",
       "        vertical-align: middle;\n",
       "    }\n",
       "\n",
       "    .dataframe tbody tr th {\n",
       "        vertical-align: top;\n",
       "    }\n",
       "\n",
       "    .dataframe thead th {\n",
       "        text-align: right;\n",
       "    }\n",
       "</style>\n",
       "<table border=\"1\" class=\"dataframe\">\n",
       "  <thead>\n",
       "    <tr style=\"text-align: right;\">\n",
       "      <th></th>\n",
       "      <th>P</th>\n",
       "      <th>Q</th>\n",
       "      <th>R</th>\n",
       "      <th>S</th>\n",
       "      <th>T</th>\n",
       "    </tr>\n",
       "  </thead>\n",
       "  <tbody>\n",
       "    <tr>\n",
       "      <th>A</th>\n",
       "      <td>0.616918</td>\n",
       "      <td>0.762819</td>\n",
       "      <td>0.001679</td>\n",
       "      <td>0.082120</td>\n",
       "      <td>1</td>\n",
       "    </tr>\n",
       "    <tr>\n",
       "      <th>B</th>\n",
       "      <td>0.321179</td>\n",
       "      <td>0.216350</td>\n",
       "      <td>0.174757</td>\n",
       "      <td>0.551840</td>\n",
       "      <td>2</td>\n",
       "    </tr>\n",
       "    <tr>\n",
       "      <th>C</th>\n",
       "      <td>0.639629</td>\n",
       "      <td>0.485027</td>\n",
       "      <td>0.699559</td>\n",
       "      <td>0.318169</td>\n",
       "      <td>3</td>\n",
       "    </tr>\n",
       "    <tr>\n",
       "      <th>D</th>\n",
       "      <td>0.365971</td>\n",
       "      <td>0.132996</td>\n",
       "      <td>0.216944</td>\n",
       "      <td>0.486815</td>\n",
       "      <td>4</td>\n",
       "    </tr>\n",
       "    <tr>\n",
       "      <th>E</th>\n",
       "      <td>0.826405</td>\n",
       "      <td>0.473552</td>\n",
       "      <td>0.883177</td>\n",
       "      <td>0.936967</td>\n",
       "      <td>5</td>\n",
       "    </tr>\n",
       "  </tbody>\n",
       "</table>\n",
       "</div>"
      ],
      "text/plain": [
       "          P         Q         R         S  T\n",
       "A  0.616918  0.762819  0.001679  0.082120  1\n",
       "B  0.321179  0.216350  0.174757  0.551840  2\n",
       "C  0.639629  0.485027  0.699559  0.318169  3\n",
       "D  0.365971  0.132996  0.216944  0.486815  4\n",
       "E  0.826405  0.473552  0.883177  0.936967  5"
      ]
     },
     "execution_count": 241,
     "metadata": {},
     "output_type": "execute_result"
    }
   ],
   "source": [
    "# Drop a row or column (not modifying the original dataframe)\n",
    "print(df.drop(\"T\", axis=1))\n",
    "print(df.drop(\"D\", axis=0))\n",
    "df"
   ]
  },
  {
   "cell_type": "code",
   "execution_count": 248,
   "metadata": {},
   "outputs": [
    {
     "data": {
      "text/plain": [
       "P    0.616918\n",
       "Q    0.762819\n",
       "R    0.001679\n",
       "S    0.082120\n",
       "T    1.000000\n",
       "Name: A, dtype: float64"
      ]
     },
     "execution_count": 248,
     "metadata": {},
     "output_type": "execute_result"
    }
   ],
   "source": [
    "# Locate a row by the label\n",
    "df.loc['A']"
   ]
  },
  {
   "cell_type": "code",
   "execution_count": 249,
   "metadata": {},
   "outputs": [
    {
     "data": {
      "text/plain": [
       "P    0.639629\n",
       "Q    0.485027\n",
       "R    0.699559\n",
       "S    0.318169\n",
       "T    3.000000\n",
       "Name: C, dtype: float64"
      ]
     },
     "execution_count": 249,
     "metadata": {},
     "output_type": "execute_result"
    }
   ],
   "source": [
    "# Locate a row by the index\n",
    "df.iloc[2]"
   ]
  },
  {
   "cell_type": "code",
   "execution_count": 252,
   "metadata": {},
   "outputs": [
    {
     "data": {
      "text/plain": [
       "0.17475749052605716"
      ]
     },
     "execution_count": 252,
     "metadata": {},
     "output_type": "execute_result"
    }
   ],
   "source": [
    "# Locate a cell by index and column\n",
    "df.loc[\"B\", \"R\"]"
   ]
  },
  {
   "cell_type": "code",
   "execution_count": 256,
   "metadata": {},
   "outputs": [
    {
     "data": {
      "text/html": [
       "<div>\n",
       "<style scoped>\n",
       "    .dataframe tbody tr th:only-of-type {\n",
       "        vertical-align: middle;\n",
       "    }\n",
       "\n",
       "    .dataframe tbody tr th {\n",
       "        vertical-align: top;\n",
       "    }\n",
       "\n",
       "    .dataframe thead th {\n",
       "        text-align: right;\n",
       "    }\n",
       "</style>\n",
       "<table border=\"1\" class=\"dataframe\">\n",
       "  <thead>\n",
       "    <tr style=\"text-align: right;\">\n",
       "      <th></th>\n",
       "      <th>R</th>\n",
       "      <th>S</th>\n",
       "    </tr>\n",
       "  </thead>\n",
       "  <tbody>\n",
       "    <tr>\n",
       "      <th>A</th>\n",
       "      <td>0.001679</td>\n",
       "      <td>0.08212</td>\n",
       "    </tr>\n",
       "    <tr>\n",
       "      <th>B</th>\n",
       "      <td>0.174757</td>\n",
       "      <td>0.55184</td>\n",
       "    </tr>\n",
       "  </tbody>\n",
       "</table>\n",
       "</div>"
      ],
      "text/plain": [
       "          R        S\n",
       "A  0.001679  0.08212\n",
       "B  0.174757  0.55184"
      ]
     },
     "execution_count": 256,
     "metadata": {},
     "output_type": "execute_result"
    }
   ],
   "source": [
    "# Locate a part of the dataframe\n",
    "df.loc[[\"A\", \"B\"], [\"R\", \"S\"]]"
   ]
  },
  {
   "cell_type": "code",
   "execution_count": 267,
   "metadata": {},
   "outputs": [
    {
     "data": {
      "text/plain": [
       "[('A', 1), ('A', 2), ('A', 3), ('B', 1), ('B', 2), ('B', 3)]"
      ]
     },
     "execution_count": 267,
     "metadata": {},
     "output_type": "execute_result"
    }
   ],
   "source": [
    "# Zip: Combine 2 lists\n",
    "a1 = ['A', 'A', 'A', 'B', 'B', 'B']\n",
    "b1 = [1, 2, 3, 1, 2, 3]\n",
    "\n",
    "p = list(zip(a1, b1))\n",
    "p"
   ]
  },
  {
   "cell_type": "code",
   "execution_count": 274,
   "metadata": {},
   "outputs": [
    {
     "data": {
      "text/html": [
       "<div>\n",
       "<style scoped>\n",
       "    .dataframe tbody tr th:only-of-type {\n",
       "        vertical-align: middle;\n",
       "    }\n",
       "\n",
       "    .dataframe tbody tr th {\n",
       "        vertical-align: top;\n",
       "    }\n",
       "\n",
       "    .dataframe thead th {\n",
       "        text-align: right;\n",
       "    }\n",
       "</style>\n",
       "<table border=\"1\" class=\"dataframe\">\n",
       "  <thead>\n",
       "    <tr style=\"text-align: right;\">\n",
       "      <th></th>\n",
       "      <th>X</th>\n",
       "      <th>Y</th>\n",
       "    </tr>\n",
       "  </thead>\n",
       "  <tbody>\n",
       "    <tr>\n",
       "      <th>(A, 1)</th>\n",
       "      <td>-0.383631</td>\n",
       "      <td>-1.636216</td>\n",
       "    </tr>\n",
       "    <tr>\n",
       "      <th>(A, 2)</th>\n",
       "      <td>-0.210186</td>\n",
       "      <td>-1.833769</td>\n",
       "    </tr>\n",
       "    <tr>\n",
       "      <th>(A, 3)</th>\n",
       "      <td>0.899336</td>\n",
       "      <td>1.358031</td>\n",
       "    </tr>\n",
       "    <tr>\n",
       "      <th>(B, 1)</th>\n",
       "      <td>-0.708565</td>\n",
       "      <td>0.171569</td>\n",
       "    </tr>\n",
       "    <tr>\n",
       "      <th>(B, 2)</th>\n",
       "      <td>2.440975</td>\n",
       "      <td>0.580650</td>\n",
       "    </tr>\n",
       "    <tr>\n",
       "      <th>(B, 3)</th>\n",
       "      <td>0.825887</td>\n",
       "      <td>0.247949</td>\n",
       "    </tr>\n",
       "  </tbody>\n",
       "</table>\n",
       "</div>"
      ],
      "text/plain": [
       "               X         Y\n",
       "(A, 1) -0.383631 -1.636216\n",
       "(A, 2) -0.210186 -1.833769\n",
       "(A, 3)  0.899336  1.358031\n",
       "(B, 1) -0.708565  0.171569\n",
       "(B, 2)  2.440975  0.580650\n",
       "(B, 3)  0.825887  0.247949"
      ]
     },
     "execution_count": 274,
     "metadata": {},
     "output_type": "execute_result"
    }
   ],
   "source": [
    "df = pd.DataFrame(np.random.randn(6, 2), index=p, columns=['X', 'Y'])\n",
    "df"
   ]
  }
 ],
 "metadata": {
  "kernelspec": {
   "display_name": "Python 3",
   "language": "python",
   "name": "python3"
  },
  "language_info": {
   "codemirror_mode": {
    "name": "ipython",
    "version": 3
   },
   "file_extension": ".py",
   "mimetype": "text/x-python",
   "name": "python",
   "nbconvert_exporter": "python",
   "pygments_lexer": "ipython3",
   "version": "3.12.2"
  }
 },
 "nbformat": 4,
 "nbformat_minor": 2
}
